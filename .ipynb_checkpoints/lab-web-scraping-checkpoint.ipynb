{
 "cells": [
  {
   "cell_type": "markdown",
   "id": "7e7a1ab8-2599-417d-9a65-25ef07f3a786",
   "metadata": {
    "id": "7e7a1ab8-2599-417d-9a65-25ef07f3a786"
   },
   "source": [
    "# Lab | Web Scraping"
   ]
  },
  {
   "cell_type": "markdown",
   "id": "ce8882fc-4815-4567-92fa-b4816358ba7d",
   "metadata": {
    "id": "ce8882fc-4815-4567-92fa-b4816358ba7d"
   },
   "source": [
    "Welcome to the \"Books to Scrape\" Web Scraping Adventure Lab!\n",
    "\n",
    "**Objective**\n",
    "\n",
    "In this lab, we will embark on a mission to unearth valuable insights from the data available on Books to Scrape, an online platform showcasing a wide variety of books. As data analyst, you have been tasked with scraping a specific subset of book data from Books to Scrape to assist publishing companies in understanding the landscape of highly-rated books across different genres. Your insights will help shape future book marketing strategies and publishing decisions.\n",
    "\n",
    "**Background**\n",
    "\n",
    "In a world where data has become the new currency, businesses are leveraging big data to make informed decisions that drive success and profitability. The publishing industry, much like others, utilizes data analytics to understand market trends, reader preferences, and the performance of books based on factors such as genre, author, and ratings. Books to Scrape serves as a rich source of such data, offering detailed information about a diverse range of books, making it an ideal platform for extracting insights to aid in informed decision-making within the literary world.\n",
    "\n",
    "**Task**\n",
    "\n",
    "Your task is to create a Python script using BeautifulSoup and pandas to scrape Books to Scrape book data, focusing on book ratings and genres. The script should be able to filter books with ratings above a certain threshold and in specific genres. Additionally, the script should structure the scraped data in a tabular format using pandas for further analysis.\n",
    "\n",
    "**Expected Outcome**\n",
    "\n",
    "A function named `scrape_books` that takes two parameters: `min_rating` and `max_price`. The function should scrape book data from the \"Books to Scrape\" website and return a `pandas` DataFrame with the following columns:\n",
    "\n",
    "**Expected Outcome**\n",
    "\n",
    "- A function named `scrape_books` that takes two parameters: `min_rating` and `max_price`.\n",
    "- The function should return a DataFrame with the following columns:\n",
    "  - **UPC**: The Universal Product Code (UPC) of the book.\n",
    "  - **Title**: The title of the book.\n",
    "  - **Price (£)**: The price of the book in pounds.\n",
    "  - **Rating**: The rating of the book (1-5 stars).\n",
    "  - **Genre**: The genre of the book.\n",
    "  - **Availability**: Whether the book is in stock or not.\n",
    "  - **Description**: A brief description or product description of the book (if available).\n",
    "  \n",
    "You will execute this script to scrape data for books with a minimum rating of `4.0 and above` and a maximum price of `£20`. \n",
    "\n",
    "Remember to experiment with different ratings and prices to ensure your code is versatile and can handle various searches effectively!\n",
    "\n",
    "**Resources**\n",
    "\n",
    "- [Beautiful Soup Documentation](https://www.crummy.com/software/BeautifulSoup/bs4/doc/)\n",
    "- [Pandas Documentation](https://pandas.pydata.org/pandas-docs/stable/index.html)\n",
    "- [Books to Scrape](https://books.toscrape.com/)\n"
   ]
  },
  {
   "cell_type": "markdown",
   "id": "3519921d-5890-445b-9a33-934ed8ee378c",
   "metadata": {
    "id": "3519921d-5890-445b-9a33-934ed8ee378c"
   },
   "source": [
    "**Hint**\n",
    "\n",
    "Your first mission is to familiarize yourself with the **Books to Scrape** website. Navigate to [Books to Scrape](http://books.toscrape.com/) and explore the available books to understand their layout and structure. \n",
    "\n",
    "Next, think about how you can set parameters for your data extraction:\n",
    "\n",
    "- **Minimum Rating**: Focus on books with a rating of 4.0 and above.\n",
    "- **Maximum Price**: Filter for books priced up to £20.\n",
    "\n",
    "After reviewing the site, you can construct a plan for scraping relevant data. Pay attention to the details displayed for each book, including the title, price, rating, and availability. This will help you identify the correct HTML elements to target with your scraping script.\n",
    "\n",
    "Make sure to build your scraping URL and logic based on the patterns you observe in the HTML structure of the book listings!"
   ]
  },
  {
   "cell_type": "markdown",
   "id": "25a83a0d-a742-49f6-985e-e27887cbf922",
   "metadata": {
    "id": "25a83a0d-a742-49f6-985e-e27887cbf922"
   },
   "source": [
    "\n",
    "---\n",
    "\n",
    "**Best of luck! Immerse yourself in the world of books, and may the data be with you!**"
   ]
  },
  {
   "cell_type": "markdown",
   "id": "7b75cf0d-9afa-4eec-a9e2-befeac68b2a0",
   "metadata": {
    "id": "7b75cf0d-9afa-4eec-a9e2-befeac68b2a0"
   },
   "source": [
    "**Important Note**:\n",
    "\n",
    "In the fast-changing online world, websites often update and change their structures. When you try this lab, the **Books to Scrape** website might differ from what you expect.\n",
    "\n",
    "If you encounter issues due to these changes, like new rules or obstacles preventing data extraction, don’t worry! Get creative.\n",
    "\n",
    "You can choose another website that interests you and is suitable for scraping data. Options like Wikipedia, The New York Times, or even library databases are great alternatives. The main goal remains the same: extract useful data and enhance your web scraping skills while exploring a source of information you enjoy. This is your opportunity to practice and adapt to different web environments!"
   ]
  },
  {
   "cell_type": "code",
   "execution_count": null,
   "id": "57bd744b-61f9-46a0-9453-96b090a76595",
   "metadata": {},
   "outputs": [],
   "source": [
    "def scrape_books(min_rating, max_price):\n",
    "    books_links = []\n",
    "    for i in range(50):\n",
    "        link = f\"https://books.toscrape.com/catalogue/page-{i+1}.html\"\n",
    "        response = requests.get(link)\n",
    "        response.status_code\n",
    "        html = response.text\n",
    "        soup = BeautifulSoup(html, 'html.parser')\n",
    "        book_headers = soup.find_all(\"h3\")\n",
    "        for element in book_headers:\n",
    "            books_links.append(element.find(\"a\").get(\"href\"))\n",
    "    upc_list = []\n",
    "    title_list = []\n",
    "    price_list = []\n",
    "    rating_list = []\n",
    "    genre_list = []\n",
    "    availability_list = []\n",
    "    description_list = []\n",
    "    for element in books_links:\n",
    "        link = \"https://books.toscrape.com/catalogue/\"+element\n",
    "        response = requests.get(link)\n",
    "        html = response.text\n",
    "        soup = BeautifulSoup(html, 'html.parser')\n",
    "        upc_list.append(soup.find_all(\"td\")[0].get_text())\n",
    "        title_list.append(soup.find(\"h1\").get_text())\n",
    "        price_list.append(soup.find(class_=\"price_color\").get_text()[2:])\n",
    "        rating_list.append(w2n.word_to_num(soup.find(class_=\"star-rating\").get(\"class\")[1]))\n",
    "        genre_list.append(soup.find_all(\"li\")[2].get_text(strip = True))\n",
    "        availability_list.append(soup.find(class_=\"instock availability\").get_text(strip=True))\n",
    "        description_list.append(soup.find_all(\"p\")[3].get_text(strip = True))\n",
    "    dictionary = {\"upc\": upc_list,\n",
    "                 \"title\": title_list,\n",
    "                 \"price (£)\": price_list,\n",
    "                 \"rating\": rating_list,\n",
    "                 \"genre\": genre_list,\n",
    "                 \"availavility\": availability_list,\n",
    "                 \"description\": description_list}\n",
    "    books_df = pd.DataFrame(data = dictionary)\n",
    "    books_df[\"price (£)\"] = books_df[\"price (£)\"].astype(float)\n",
    "    filtered_df = books_df[(books_df[\"rating\"] >= min_rating) & (books_df[\"price (£)\"] <= max_price)].reset_index(drop = True)\n",
    "    return filtered_df"
   ]
  },
  {
   "cell_type": "code",
   "execution_count": 232,
   "id": "d377bcb5-c02e-4bd3-9ad7-32f9dbc4fe82",
   "metadata": {},
   "outputs": [],
   "source": [
    "def scrape_books(min_rating, max_price):\n",
    "    books_links = []\n",
    "    for i in range(50):\n",
    "        link = f\"https://books.toscrape.com/catalogue/page-{i+1}.html\"\n",
    "        response = requests.get(link)\n",
    "        response.status_code\n",
    "        html = response.text\n",
    "        soup = BeautifulSoup(html, 'html.parser')\n",
    "        book_headers = soup.find_all(\"h3\")\n",
    "        for element in book_headers:\n",
    "            books_links.append(element.find(\"a\").get(\"href\"))\n",
    "    upc_list = []\n",
    "    title_list = []\n",
    "    price_list = []\n",
    "    rating_list = []\n",
    "    genre_list = []\n",
    "    availability_list = []\n",
    "    description_list = []\n",
    "    for element in books_links:\n",
    "        link = \"https://books.toscrape.com/catalogue/\"+element\n",
    "        response = requests.get(link)\n",
    "        html = response.text\n",
    "        soup = BeautifulSoup(html, 'html.parser')\n",
    "        upc_list.append(soup.find_all(\"td\")[0].get_text())\n",
    "        title_list.append(soup.find(\"h1\").get_text())\n",
    "        price_list.append(soup.find(class_=\"price_color\").get_text()[2:])\n",
    "        rating_list.append(w2n.word_to_num(soup.find(class_=\"star-rating\").get(\"class\")[1]))\n",
    "        genre_list.append(soup.find_all(\"li\")[2].get_text(strip = True))\n",
    "        availability_list.append(soup.find(class_=\"instock availability\").get_text(strip=True))\n",
    "        description_list.append(soup.find_all(\"p\")[3].get_text(strip = True))\n",
    "    dictionary = {\"upc\": upc_list,\n",
    "                 \"title\": title_list,\n",
    "                 \"price (£)\": price_list,\n",
    "                 \"rating\": rating_list,\n",
    "                 \"genre\": genre_list,\n",
    "                 \"availavility\": availability_list,\n",
    "                 \"description\": description_list}\n",
    "    books_df = pd.DataFrame(data = dictionary)\n",
    "    books_df[\"price (£)\"] = books_df[\"price (£)\"].astype(float)\n",
    "    filtered_df = books_df[(books_df[\"rating\"] >= min_rating) & (books_df[\"price (£)\"] <= max_price)].reset_index(drop = True)\n",
    "    return filtered_df"
   ]
  }
 ],
 "metadata": {
  "colab": {
   "provenance": []
  },
  "kernelspec": {
   "display_name": "Python 3 (ipykernel)",
   "language": "python",
   "name": "python3"
  },
  "language_info": {
   "codemirror_mode": {
    "name": "ipython",
    "version": 3
   },
   "file_extension": ".py",
   "mimetype": "text/x-python",
   "name": "python",
   "nbconvert_exporter": "python",
   "pygments_lexer": "ipython3",
   "version": "3.12.4"
  }
 },
 "nbformat": 4,
 "nbformat_minor": 5
}
